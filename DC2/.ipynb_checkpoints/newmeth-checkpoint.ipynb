{
 "cells": [
  {
   "cell_type": "code",
   "execution_count": 1,
   "metadata": {
    "tags": []
   },
   "outputs": [
    {
     "ename": "TypeError",
     "evalue": "FigureBase.gca() got an unexpected keyword argument 'projection'",
     "output_type": "error",
     "traceback": [
      "\u001b[0;31m---------------------------------------------------------------------------\u001b[0m",
      "\u001b[0;31mTypeError\u001b[0m                                 Traceback (most recent call last)",
      "Cell \u001b[0;32mIn[1], line 38\u001b[0m\n\u001b[1;32m     36\u001b[0m fontdict\u001b[38;5;241m=\u001b[39m{\u001b[38;5;124m'\u001b[39m\u001b[38;5;124msize\u001b[39m\u001b[38;5;124m'\u001b[39m:\u001b[38;5;241m16\u001b[39m,}\n\u001b[1;32m     37\u001b[0m fig1 \u001b[38;5;241m=\u001b[39m plt\u001b[38;5;241m.\u001b[39mfigure(figsize\u001b[38;5;241m=\u001b[39m(\u001b[38;5;241m5\u001b[39m,\u001b[38;5;241m5\u001b[39m))\n\u001b[0;32m---> 38\u001b[0m ax \u001b[38;5;241m=\u001b[39m \u001b[43mfig1\u001b[49m\u001b[38;5;241;43m.\u001b[39;49m\u001b[43mgca\u001b[49m\u001b[43m(\u001b[49m\u001b[43mprojection\u001b[49m\u001b[38;5;241;43m=\u001b[39;49m\u001b[38;5;124;43m'\u001b[39;49m\u001b[38;5;124;43m3d\u001b[39;49m\u001b[38;5;124;43m'\u001b[39;49m\u001b[43m)\u001b[49m\n\u001b[1;32m     39\u001b[0m ax\u001b[38;5;241m.\u001b[39mplot(x_out, y_out, z_out, lw\u001b[38;5;241m=\u001b[39m\u001b[38;5;241m0.25\u001b[39m)\n\u001b[1;32m     41\u001b[0m ax\u001b[38;5;241m.\u001b[39mset_xlabel(\u001b[38;5;124m\"\u001b[39m\u001b[38;5;124mX-axis\u001b[39m\u001b[38;5;124m\"\u001b[39m, fontdict)\n",
      "\u001b[0;31mTypeError\u001b[0m: FigureBase.gca() got an unexpected keyword argument 'projection'"
     ]
    },
    {
     "data": {
      "text/plain": [
       "<Figure size 500x500 with 0 Axes>"
      ]
     },
     "metadata": {},
     "output_type": "display_data"
    }
   ],
   "source": [
    "import numpy as np\n",
    "import matplotlib.pyplot as plt\n",
    "\n",
    "beta = 2.66667\n",
    "rho = 28.0\n",
    "sigma = 10.0\n",
    "\n",
    "\n",
    "def lorenz(x, y, z, beta, rho, sigma):\n",
    "    Xdt = (sigma*y) - (sigma*x)\n",
    "    Ydt = -(x*z) + (rho*x) - y\n",
    "    Zdt = (x*y) - (beta*z)\n",
    "    return Xdt, Ydt, Zdt\n",
    "\n",
    "\n",
    "dT = 0.01\n",
    "iteration = 10000\n",
    "\n",
    "x_out = np.zeros(iteration)\n",
    "y_out = np.zeros(iteration)\n",
    "z_out = np.zeros(iteration)   \n",
    "\n",
    "# starting point\n",
    "x_out[0] = 0\n",
    "y_out[0] = 1\n",
    "z_out[0] = 1.05\n",
    "\n",
    "\n",
    "for i in range(iteration - 1):\n",
    "    curr_x, curr_y, curr_z = lorenz(x_out[i], y_out[i], z_out[i], beta, rho, sigma)\n",
    "    x_out[i+1] = x_out[i] + (curr_x*dT) \n",
    "    y_out[i+1] = y_out[i] + (curr_y*dT) \n",
    "    z_out[i+1] = z_out[i] + (curr_z*dT) \n",
    "    \n",
    "# Plot\n",
    "fontdict={'size':16,}\n",
    "fig1 = plt.figure(figsize=(5,5))\n",
    "ax = fig1.gca(projection='3d')\n",
    "ax.plot(x_out, y_out, z_out, lw=0.25)\n",
    "\n",
    "ax.set_xlabel(\"X-axis\", fontdict)\n",
    "ax.set_ylabel(\"Y-axis\", fontdict)\n",
    "ax.set_zlabel(\"Z-axis\", fontdict)\n",
    "ax.set_title(\"Lorenz Attractor Visualization\", fontdict)\n",
    "\n",
    "plt.show()"
   ]
  },
  {
   "cell_type": "code",
   "execution_count": null,
   "metadata": {},
   "outputs": [],
   "source": [
    "\n"
   ]
  },
  {
   "cell_type": "code",
   "execution_count": null,
   "metadata": {},
   "outputs": [],
   "source": []
  }
 ],
 "metadata": {
  "kernelspec": {
   "display_name": "Python 3 (ipykernel)",
   "language": "python",
   "name": "python3"
  },
  "language_info": {
   "codemirror_mode": {
    "name": "ipython",
    "version": 3
   },
   "file_extension": ".py",
   "mimetype": "text/x-python",
   "name": "python",
   "nbconvert_exporter": "python",
   "pygments_lexer": "ipython3",
   "version": "3.10.6"
  }
 },
 "nbformat": 4,
 "nbformat_minor": 4
}
