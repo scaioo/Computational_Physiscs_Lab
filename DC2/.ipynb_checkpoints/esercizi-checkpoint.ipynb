{
 "cells": [
  {
   "cell_type": "code",
   "execution_count": 2,
   "metadata": {},
   "outputs": [],
   "source": [
    "import numpy as np\n",
    "import matplotlib.pyplot as plt\n",
    "import pandas as pd\n",
    "from scipy import stats\n",
    "import matplotlib.gridspec as gridspec\n",
    "from scipy.optimize import curve_fit\n",
    "from scipy.stats import ttest_ind\n",
    "from scipy.stats import ks_2samp"
   ]
  },
  {
   "cell_type": "code",
   "execution_count": 8,
   "metadata": {},
   "outputs": [
    {
     "name": "stdout",
     "output_type": "stream",
     "text": [
      "Cross-correlazione: [ 6 16 28 40 52 28 10  0  0]\n",
      "Lag: 4\n"
     ]
    }
   ],
   "source": [
    "\n",
    "# Definisci i due segnali\n",
    "x = np.array([1, 2, 3, 4, 5])\n",
    "y = np.array([0, 0, 2, 4, 6])\n",
    "\n",
    "# Calcola la cross-correlazione\n",
    "corr = np.correlate(x, y, mode='full')\n",
    "\n",
    "# Trova l'indice dell'elemento massimo della cross-correlazione\n",
    "max_index = np.argmax(corr)\n",
    "\n",
    "# Calcola il lag\n",
    "lag = max_index \n",
    "#-(len(x) - 1)\n",
    "\n",
    "# Stampa il risultato\n",
    "print(\"Cross-correlazione:\", corr)\n",
    "print(\"Lag:\", lag)\n"
   ]
  },
  {
   "cell_type": "code",
   "execution_count": null,
   "metadata": {},
   "outputs": [],
   "source": []
  }
 ],
 "metadata": {
  "kernelspec": {
   "display_name": "venv",
   "language": "python",
   "name": "python3"
  },
  "language_info": {
   "codemirror_mode": {
    "name": "ipython",
    "version": 3
   },
   "file_extension": ".py",
   "mimetype": "text/x-python",
   "name": "python",
   "nbconvert_exporter": "python",
   "pygments_lexer": "ipython3",
   "version": "3.10.6"
  },
  "orig_nbformat": 4
 },
 "nbformat": 4,
 "nbformat_minor": 2
}
