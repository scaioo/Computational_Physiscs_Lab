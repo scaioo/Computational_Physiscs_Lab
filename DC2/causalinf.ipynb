{
 "cells": [
  {
   "cell_type": "code",
   "execution_count": 1,
   "metadata": {},
   "outputs": [
    {
     "name": "stdout",
     "output_type": "stream",
     "text": [
      "The history saving thread hit an unexpected error (OperationalError('attempt to write a readonly database')).History will not be written to the database.\n"
     ]
    },
    {
     "ename": "TypeError",
     "evalue": "FigureBase.gca() got an unexpected keyword argument 'projection'",
     "output_type": "error",
     "traceback": [
      "\u001b[0;31m---------------------------------------------------------------------------\u001b[0m",
      "\u001b[0;31mTypeError\u001b[0m                                 Traceback (most recent call last)",
      "Cell \u001b[0;32mIn[1], line 40\u001b[0m\n\u001b[1;32m     38\u001b[0m fontdict\u001b[39m=\u001b[39m{\u001b[39m'\u001b[39m\u001b[39msize\u001b[39m\u001b[39m'\u001b[39m:\u001b[39m16\u001b[39m,}\n\u001b[1;32m     39\u001b[0m fig1 \u001b[39m=\u001b[39m plt\u001b[39m.\u001b[39mfigure(figsize\u001b[39m=\u001b[39m(\u001b[39m5\u001b[39m,\u001b[39m5\u001b[39m))\n\u001b[0;32m---> 40\u001b[0m ax \u001b[39m=\u001b[39m fig1\u001b[39m.\u001b[39;49mgca(projection\u001b[39m=\u001b[39;49m\u001b[39m'\u001b[39;49m\u001b[39m3d\u001b[39;49m\u001b[39m'\u001b[39;49m)\n\u001b[1;32m     41\u001b[0m ax\u001b[39m.\u001b[39mplot(x_out, y_out, z_out, lw\u001b[39m=\u001b[39m\u001b[39m0.25\u001b[39m)\n\u001b[1;32m     43\u001b[0m ax\u001b[39m.\u001b[39mset_xlabel(\u001b[39m\"\u001b[39m\u001b[39mX-axis\u001b[39m\u001b[39m\"\u001b[39m, fontdict)\n",
      "\u001b[0;31mTypeError\u001b[0m: FigureBase.gca() got an unexpected keyword argument 'projection'"
     ]
    },
    {
     "data": {
      "text/plain": [
       "<Figure size 500x500 with 0 Axes>"
      ]
     },
     "metadata": {},
     "output_type": "display_data"
    }
   ],
   "source": [
    "# Visualize Lorenz Attractor [Piziniacco. L, 2020]\n",
    "\n",
    "import numpy as np\n",
    "import matplotlib.pyplot as plt\n",
    "from mpl_toolkits.mplot3d import axes3d, Axes3D \n",
    "beta = 2.66667\n",
    "rho = 28.0\n",
    "sigma = 10.0\n",
    "\n",
    "\n",
    "def lorenz(x, y, z, beta, rho, sigma):\n",
    "    Xdt = (sigma*y) - (sigma*x)\n",
    "    Ydt = -(x*z) + (rho*x) - y\n",
    "    Zdt = (x*y) - (beta*z)\n",
    "    return Xdt, Ydt, Zdt\n",
    "\n",
    "\n",
    "dT = 0.01\n",
    "iteration = 10000\n",
    "\n",
    "x_out = np.zeros(iteration)\n",
    "y_out = np.zeros(iteration)\n",
    "z_out = np.zeros(iteration)   \n",
    "\n",
    "# starting point\n",
    "x_out[0] = 0\n",
    "y_out[0] = 1\n",
    "z_out[0] = 1.05\n",
    "\n",
    "\n",
    "for i in range(iteration - 1):\n",
    "    curr_x, curr_y, curr_z = lorenz(x_out[i], y_out[i], z_out[i], beta, rho, sigma)\n",
    "    x_out[i+1] = x_out[i] + (curr_x*dT) \n",
    "    y_out[i+1] = y_out[i] + (curr_y*dT) \n",
    "    z_out[i+1] = z_out[i] + (curr_z*dT) \n",
    "    \n",
    "# Plot\n",
    "fontdict={'size':16,}\n",
    "fig1 = plt.figure(figsize=(5,5))\n",
    "ax = fig1.gca(projection='3d')\n",
    "ax.plot(x_out, y_out, z_out, lw=0.25)\n",
    "\n",
    "ax.set_xlabel(\"X-axis\", fontdict)\n",
    "ax.set_ylabel(\"Y-axis\", fontdict)\n",
    "ax.set_zlabel(\"Z-axis\", fontdict)\n",
    "ax.set_title(\"Lorenz Attractor Visualization\", fontdict)\n",
    "\n",
    "plt.show()"
   ]
  },
  {
   "cell_type": "code",
   "execution_count": 2,
   "metadata": {},
   "outputs": [
    {
     "ename": "TypeError",
     "evalue": "FigureBase.gca() got an unexpected keyword argument 'projection'",
     "output_type": "error",
     "traceback": [
      "\u001b[0;31m---------------------------------------------------------------------------\u001b[0m",
      "\u001b[0;31mTypeError\u001b[0m                                 Traceback (most recent call last)",
      "Cell \u001b[0;32mIn[2], line 5\u001b[0m\n\u001b[1;32m      2\u001b[0m \u001b[39mimport\u001b[39;00m \u001b[39mmatplotlib\u001b[39;00m\u001b[39m.\u001b[39;00m\u001b[39mpyplot\u001b[39;00m \u001b[39mas\u001b[39;00m \u001b[39mplt\u001b[39;00m\n\u001b[1;32m      4\u001b[0m fig \u001b[39m=\u001b[39m plt\u001b[39m.\u001b[39mfigure()\n\u001b[0;32m----> 5\u001b[0m ax \u001b[39m=\u001b[39m fig\u001b[39m.\u001b[39;49mgca(projection\u001b[39m=\u001b[39;49m\u001b[39m'\u001b[39;49m\u001b[39m3d\u001b[39;49m\u001b[39m'\u001b[39;49m)\n\u001b[1;32m      6\u001b[0m X, Y, Z \u001b[39m=\u001b[39m axes3d\u001b[39m.\u001b[39mget_test_data(\u001b[39m0.05\u001b[39m)\n\u001b[1;32m      7\u001b[0m cset \u001b[39m=\u001b[39m ax\u001b[39m.\u001b[39mcontour(X, Y, Z, \u001b[39m16\u001b[39m, extend3d\u001b[39m=\u001b[39m\u001b[39mTrue\u001b[39;00m)\n",
      "\u001b[0;31mTypeError\u001b[0m: FigureBase.gca() got an unexpected keyword argument 'projection'"
     ]
    },
    {
     "data": {
      "text/plain": [
       "<Figure size 640x480 with 0 Axes>"
      ]
     },
     "metadata": {},
     "output_type": "display_data"
    }
   ],
   "source": [
    "from mpl_toolkits.mplot3d import axes3d\n",
    "import matplotlib.pyplot as plt\n",
    "\n",
    "fig = plt.figure()\n",
    "ax = fig.gca(projection='3d')\n",
    "X, Y, Z = axes3d.get_test_data(0.05)\n",
    "cset = ax.contour(X, Y, Z, 16, extend3d=True)\n",
    "ax.clabel(cset, fontsize=9, inline=1)\n",
    "\n",
    "plt.show()"
   ]
  },
  {
   "cell_type": "code",
   "execution_count": 3,
   "metadata": {},
   "outputs": [
    {
     "data": {
      "text/plain": [
       "<Figure size 640x480 with 0 Axes>"
      ]
     },
     "metadata": {},
     "output_type": "display_data"
    }
   ],
   "source": [
    "import matplotlib.pyplot as plt\n",
    "from mpl_toolkits.mplot3d import axes3d, Axes3D #<-- Note the capitalization! \n",
    "fig = plt.figure()\n",
    "\n",
    "ax = Axes3D(fig) #<-- Note the difference from your original code...\n",
    "\n",
    "X, Y, Z = axes3d.get_test_data(0.05)\n",
    "cset = ax.contour(X, Y, Z, 16, extend3d=True)\n",
    "ax.clabel(cset, fontsize=9, inline=1)\n",
    "plt.show()"
   ]
  }
 ],
 "metadata": {
  "kernelspec": {
   "display_name": "Python 3 (ipykernel)",
   "language": "python",
   "name": "python3"
  },
  "language_info": {
   "codemirror_mode": {
    "name": "ipython",
    "version": 3
   },
   "file_extension": ".py",
   "mimetype": "text/x-python",
   "name": "python",
   "nbconvert_exporter": "python",
   "pygments_lexer": "ipython3",
   "version": "3.10.6"
  }
 },
 "nbformat": 4,
 "nbformat_minor": 4
}
